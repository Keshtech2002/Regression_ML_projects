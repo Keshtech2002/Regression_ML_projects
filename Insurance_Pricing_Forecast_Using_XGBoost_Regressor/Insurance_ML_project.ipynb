{
 "cells": [
  {
   "cell_type": "markdown",
   "id": "7d3ce1f8-b8fe-4725-b13c-0c3aaf03e955",
   "metadata": {},
   "source": [
    "# Insurance Pricing Forecast Using XGBoost Regressor"
   ]
  },
  {
   "cell_type": "markdown",
   "id": "a8049da5-cf73-4d84-a436-3d9f511ee343",
   "metadata": {},
   "source": [
    "### Import Libraries"
   ]
  },
  {
   "cell_type": "code",
   "execution_count": 1,
   "id": "882614cd-8ffc-4f26-b327-df99c2656b8d",
   "metadata": {},
   "outputs": [
    {
     "name": "stderr",
     "output_type": "stream",
     "text": [
      "C:\\Users\\HP\\anaconda3\\lib\\site-packages\\scipy\\__init__.py:138: UserWarning: A NumPy version >=1.16.5 and <1.23.0 is required for this version of SciPy (detected version 1.23.5)\n",
      "  warnings.warn(f\"A NumPy version >={np_minversion} and <{np_maxversion} is required for this version of \"\n"
     ]
    }
   ],
   "source": [
    "import numpy as np\n",
    "import pandas as pd\n",
    "import seaborn as sns\n",
    "import matplotlib.pyplot as plt\n",
    "\n",
    "from sklearn.linear_model import LinearRegression, Lasso, Ridge\n",
    "from sklearn.svm import SVR\n",
    "from sklearn.ensemble import RandomForestRegressor\n",
    "from sklearn.ensemble import GradientBoostingRegressor\n",
    "from xgboost import XGBRegressor\n",
    "from sklearn.model_selection import train_test_split\n",
    "from sklearn.model_selection import KFold, cross_val_score\n",
    "from sklearn.model_selection import GridSearchCV\n",
    "from sklearn.metrics import r2_score\n",
    "\n",
    "\n",
    "from ModelSelection import model_selection \n",
    "\n",
    "\n",
    "import warnings\n",
    "warnings.filterwarnings(\"ignore\")"
   ]
  },
  {
   "cell_type": "code",
   "execution_count": 2,
   "id": "2f060999-dcc8-4cf1-aae8-2cdb609bf718",
   "metadata": {},
   "outputs": [],
   "source": [
    "# Display all output in a particular cell and not only the last\n",
    "from IPython.core.interactiveshell import InteractiveShell\n",
    "InteractiveShell.ast_node_interactivity = \"all\""
   ]
  },
  {
   "cell_type": "markdown",
   "id": "3c2e241a-62da-4c1d-9a02-9c62fe44778f",
   "metadata": {},
   "source": [
    "### Import Dataset"
   ]
  },
  {
   "cell_type": "code",
   "execution_count": 3,
   "id": "c021296b-74f7-41d0-ac18-366355603228",
   "metadata": {},
   "outputs": [],
   "source": [
    "df = pd.read_csv(\"insurance (1).csv\")"
   ]
  },
  {
   "cell_type": "code",
   "execution_count": 4,
   "id": "7ee57dc8-991d-47e6-9532-cb82ab402d83",
   "metadata": {},
   "outputs": [
    {
     "data": {
      "text/html": [
       "<div>\n",
       "<style scoped>\n",
       "    .dataframe tbody tr th:only-of-type {\n",
       "        vertical-align: middle;\n",
       "    }\n",
       "\n",
       "    .dataframe tbody tr th {\n",
       "        vertical-align: top;\n",
       "    }\n",
       "\n",
       "    .dataframe thead th {\n",
       "        text-align: right;\n",
       "    }\n",
       "</style>\n",
       "<table border=\"1\" class=\"dataframe\">\n",
       "  <thead>\n",
       "    <tr style=\"text-align: right;\">\n",
       "      <th></th>\n",
       "      <th>age</th>\n",
       "      <th>sex</th>\n",
       "      <th>bmi</th>\n",
       "      <th>children</th>\n",
       "      <th>smoker</th>\n",
       "      <th>region</th>\n",
       "      <th>charges</th>\n",
       "    </tr>\n",
       "  </thead>\n",
       "  <tbody>\n",
       "    <tr>\n",
       "      <th>0</th>\n",
       "      <td>19</td>\n",
       "      <td>female</td>\n",
       "      <td>27.900</td>\n",
       "      <td>0</td>\n",
       "      <td>yes</td>\n",
       "      <td>southwest</td>\n",
       "      <td>16884.92400</td>\n",
       "    </tr>\n",
       "    <tr>\n",
       "      <th>1</th>\n",
       "      <td>18</td>\n",
       "      <td>male</td>\n",
       "      <td>33.770</td>\n",
       "      <td>1</td>\n",
       "      <td>no</td>\n",
       "      <td>southeast</td>\n",
       "      <td>1725.55230</td>\n",
       "    </tr>\n",
       "    <tr>\n",
       "      <th>2</th>\n",
       "      <td>28</td>\n",
       "      <td>male</td>\n",
       "      <td>33.000</td>\n",
       "      <td>3</td>\n",
       "      <td>no</td>\n",
       "      <td>southeast</td>\n",
       "      <td>4449.46200</td>\n",
       "    </tr>\n",
       "    <tr>\n",
       "      <th>3</th>\n",
       "      <td>33</td>\n",
       "      <td>male</td>\n",
       "      <td>22.705</td>\n",
       "      <td>0</td>\n",
       "      <td>no</td>\n",
       "      <td>northwest</td>\n",
       "      <td>21984.47061</td>\n",
       "    </tr>\n",
       "    <tr>\n",
       "      <th>4</th>\n",
       "      <td>32</td>\n",
       "      <td>male</td>\n",
       "      <td>28.880</td>\n",
       "      <td>0</td>\n",
       "      <td>no</td>\n",
       "      <td>northwest</td>\n",
       "      <td>3866.85520</td>\n",
       "    </tr>\n",
       "    <tr>\n",
       "      <th>...</th>\n",
       "      <td>...</td>\n",
       "      <td>...</td>\n",
       "      <td>...</td>\n",
       "      <td>...</td>\n",
       "      <td>...</td>\n",
       "      <td>...</td>\n",
       "      <td>...</td>\n",
       "    </tr>\n",
       "    <tr>\n",
       "      <th>1333</th>\n",
       "      <td>50</td>\n",
       "      <td>male</td>\n",
       "      <td>30.970</td>\n",
       "      <td>3</td>\n",
       "      <td>no</td>\n",
       "      <td>northwest</td>\n",
       "      <td>10600.54830</td>\n",
       "    </tr>\n",
       "    <tr>\n",
       "      <th>1334</th>\n",
       "      <td>18</td>\n",
       "      <td>female</td>\n",
       "      <td>31.920</td>\n",
       "      <td>0</td>\n",
       "      <td>no</td>\n",
       "      <td>northeast</td>\n",
       "      <td>2205.98080</td>\n",
       "    </tr>\n",
       "    <tr>\n",
       "      <th>1335</th>\n",
       "      <td>18</td>\n",
       "      <td>female</td>\n",
       "      <td>36.850</td>\n",
       "      <td>0</td>\n",
       "      <td>no</td>\n",
       "      <td>southeast</td>\n",
       "      <td>1629.83350</td>\n",
       "    </tr>\n",
       "    <tr>\n",
       "      <th>1336</th>\n",
       "      <td>21</td>\n",
       "      <td>female</td>\n",
       "      <td>25.800</td>\n",
       "      <td>0</td>\n",
       "      <td>no</td>\n",
       "      <td>southwest</td>\n",
       "      <td>2007.94500</td>\n",
       "    </tr>\n",
       "    <tr>\n",
       "      <th>1337</th>\n",
       "      <td>61</td>\n",
       "      <td>female</td>\n",
       "      <td>29.070</td>\n",
       "      <td>0</td>\n",
       "      <td>yes</td>\n",
       "      <td>northwest</td>\n",
       "      <td>29141.36030</td>\n",
       "    </tr>\n",
       "  </tbody>\n",
       "</table>\n",
       "<p>1338 rows × 7 columns</p>\n",
       "</div>"
      ],
      "text/plain": [
       "      age     sex     bmi  children smoker     region      charges\n",
       "0      19  female  27.900         0    yes  southwest  16884.92400\n",
       "1      18    male  33.770         1     no  southeast   1725.55230\n",
       "2      28    male  33.000         3     no  southeast   4449.46200\n",
       "3      33    male  22.705         0     no  northwest  21984.47061\n",
       "4      32    male  28.880         0     no  northwest   3866.85520\n",
       "...   ...     ...     ...       ...    ...        ...          ...\n",
       "1333   50    male  30.970         3     no  northwest  10600.54830\n",
       "1334   18  female  31.920         0     no  northeast   2205.98080\n",
       "1335   18  female  36.850         0     no  southeast   1629.83350\n",
       "1336   21  female  25.800         0     no  southwest   2007.94500\n",
       "1337   61  female  29.070         0    yes  northwest  29141.36030\n",
       "\n",
       "[1338 rows x 7 columns]"
      ]
     },
     "execution_count": 4,
     "metadata": {},
     "output_type": "execute_result"
    }
   ],
   "source": [
    "df"
   ]
  },
  {
   "cell_type": "markdown",
   "id": "f66b9fcf-4395-445f-a4fa-cd7815b727ca",
   "metadata": {},
   "source": [
    "- Dataset contains 1338 Enteries and 7 distinct features"
   ]
  },
  {
   "cell_type": "code",
   "execution_count": 5,
   "id": "b2b028dd-6463-4567-8dc3-abf6c00c0b67",
   "metadata": {},
   "outputs": [
    {
     "name": "stdout",
     "output_type": "stream",
     "text": [
      "<class 'pandas.core.frame.DataFrame'>\n",
      "RangeIndex: 1338 entries, 0 to 1337\n",
      "Data columns (total 7 columns):\n",
      " #   Column    Non-Null Count  Dtype  \n",
      "---  ------    --------------  -----  \n",
      " 0   age       1338 non-null   int64  \n",
      " 1   sex       1338 non-null   object \n",
      " 2   bmi       1338 non-null   float64\n",
      " 3   children  1338 non-null   int64  \n",
      " 4   smoker    1338 non-null   object \n",
      " 5   region    1338 non-null   object \n",
      " 6   charges   1338 non-null   float64\n",
      "dtypes: float64(2), int64(2), object(3)\n",
      "memory usage: 73.3+ KB\n"
     ]
    }
   ],
   "source": [
    "df.info()"
   ]
  },
  {
   "cell_type": "markdown",
   "id": "d01254b7-8364-41c2-b010-c7d8747fb199",
   "metadata": {},
   "source": [
    "- Data contains 2 columns with float values\n",
    "- Data contains 3 columns with categorical or object values\n",
    "- Data contains 2 columns with integer values"
   ]
  },
  {
   "cell_type": "code",
   "execution_count": 6,
   "id": "1c984d69-f709-4172-9ef4-3343d63c3570",
   "metadata": {},
   "outputs": [
    {
     "data": {
      "text/html": [
       "<div>\n",
       "<style scoped>\n",
       "    .dataframe tbody tr th:only-of-type {\n",
       "        vertical-align: middle;\n",
       "    }\n",
       "\n",
       "    .dataframe tbody tr th {\n",
       "        vertical-align: top;\n",
       "    }\n",
       "\n",
       "    .dataframe thead th {\n",
       "        text-align: right;\n",
       "    }\n",
       "</style>\n",
       "<table border=\"1\" class=\"dataframe\">\n",
       "  <thead>\n",
       "    <tr style=\"text-align: right;\">\n",
       "      <th></th>\n",
       "      <th>age</th>\n",
       "      <th>bmi</th>\n",
       "      <th>children</th>\n",
       "      <th>charges</th>\n",
       "    </tr>\n",
       "  </thead>\n",
       "  <tbody>\n",
       "    <tr>\n",
       "      <th>count</th>\n",
       "      <td>1338.000000</td>\n",
       "      <td>1338.000000</td>\n",
       "      <td>1338.000000</td>\n",
       "      <td>1338.000000</td>\n",
       "    </tr>\n",
       "    <tr>\n",
       "      <th>mean</th>\n",
       "      <td>39.207025</td>\n",
       "      <td>30.663397</td>\n",
       "      <td>1.094918</td>\n",
       "      <td>13270.422265</td>\n",
       "    </tr>\n",
       "    <tr>\n",
       "      <th>std</th>\n",
       "      <td>14.049960</td>\n",
       "      <td>6.098187</td>\n",
       "      <td>1.205493</td>\n",
       "      <td>12110.011237</td>\n",
       "    </tr>\n",
       "    <tr>\n",
       "      <th>min</th>\n",
       "      <td>18.000000</td>\n",
       "      <td>15.960000</td>\n",
       "      <td>0.000000</td>\n",
       "      <td>1121.873900</td>\n",
       "    </tr>\n",
       "    <tr>\n",
       "      <th>25%</th>\n",
       "      <td>27.000000</td>\n",
       "      <td>26.296250</td>\n",
       "      <td>0.000000</td>\n",
       "      <td>4740.287150</td>\n",
       "    </tr>\n",
       "    <tr>\n",
       "      <th>50%</th>\n",
       "      <td>39.000000</td>\n",
       "      <td>30.400000</td>\n",
       "      <td>1.000000</td>\n",
       "      <td>9382.033000</td>\n",
       "    </tr>\n",
       "    <tr>\n",
       "      <th>75%</th>\n",
       "      <td>51.000000</td>\n",
       "      <td>34.693750</td>\n",
       "      <td>2.000000</td>\n",
       "      <td>16639.912515</td>\n",
       "    </tr>\n",
       "    <tr>\n",
       "      <th>max</th>\n",
       "      <td>64.000000</td>\n",
       "      <td>53.130000</td>\n",
       "      <td>5.000000</td>\n",
       "      <td>63770.428010</td>\n",
       "    </tr>\n",
       "  </tbody>\n",
       "</table>\n",
       "</div>"
      ],
      "text/plain": [
       "               age          bmi     children       charges\n",
       "count  1338.000000  1338.000000  1338.000000   1338.000000\n",
       "mean     39.207025    30.663397     1.094918  13270.422265\n",
       "std      14.049960     6.098187     1.205493  12110.011237\n",
       "min      18.000000    15.960000     0.000000   1121.873900\n",
       "25%      27.000000    26.296250     0.000000   4740.287150\n",
       "50%      39.000000    30.400000     1.000000   9382.033000\n",
       "75%      51.000000    34.693750     2.000000  16639.912515\n",
       "max      64.000000    53.130000     5.000000  63770.428010"
      ]
     },
     "execution_count": 6,
     "metadata": {},
     "output_type": "execute_result"
    }
   ],
   "source": [
    "df.describe()"
   ]
  },
  {
   "cell_type": "markdown",
   "id": "65239328-2979-4cad-8a75-7381cb6f49fb",
   "metadata": {},
   "source": [
    "### Exploratory Data Analysis"
   ]
  },
  {
   "cell_type": "code",
   "execution_count": 7,
   "id": "91f94ab8-5110-4244-beb1-fca101140b2c",
   "metadata": {},
   "outputs": [
    {
     "data": {
      "text/plain": [
       "age         0\n",
       "sex         0\n",
       "bmi         0\n",
       "children    0\n",
       "smoker      0\n",
       "region      0\n",
       "charges     0\n",
       "dtype: int64"
      ]
     },
     "execution_count": 7,
     "metadata": {},
     "output_type": "execute_result"
    }
   ],
   "source": [
    "df.isnull().sum()"
   ]
  },
  {
   "cell_type": "markdown",
   "id": "9541a69f-e8dc-4311-a288-5698f0b70df6",
   "metadata": {},
   "source": [
    "- No misssing values in this dataset"
   ]
  },
  {
   "cell_type": "code",
   "execution_count": 8,
   "id": "2b159b65-b9dd-4a85-811c-1ccdde1f3c74",
   "metadata": {},
   "outputs": [
    {
     "data": {
      "text/plain": [
       "array([676, 662], dtype=int64)"
      ]
     },
     "execution_count": 8,
     "metadata": {},
     "output_type": "execute_result"
    },
    {
     "data": {
      "text/plain": [
       "Index(['male', 'female'], dtype='object')"
      ]
     },
     "execution_count": 8,
     "metadata": {},
     "output_type": "execute_result"
    }
   ],
   "source": [
    "x = df['sex'].value_counts()\n",
    "x.values\n",
    "x.index"
   ]
  },
  {
   "cell_type": "code",
   "execution_count": 9,
   "id": "503a4d17-207e-442e-bc30-2e7ee122e414",
   "metadata": {},
   "outputs": [
    {
     "data": {
      "text/plain": [
       "<AxesSubplot:>"
      ]
     },
     "execution_count": 9,
     "metadata": {},
     "output_type": "execute_result"
    },
    {
     "data": {
      "text/plain": [
       "([<matplotlib.patches.Wedge at 0x1d8a1154d60>,\n",
       "  <matplotlib.patches.Wedge at 0x1d8a11655e0>],\n",
       " [Text(-0.018078568997004985, 1.0998514287589123, 'male'),\n",
       "  Text(0.018078568997005343, -1.0998514287589123, 'female')],\n",
       " [Text(-0.009861037634729992, 0.5999189611412249, '50.5%'),\n",
       "  Text(0.009861037634730185, -0.5999189611412248, '49.5%')])"
      ]
     },
     "execution_count": 9,
     "metadata": {},
     "output_type": "execute_result"
    },
    {
     "data": {
      "text/plain": [
       "<AxesSubplot:>"
      ]
     },
     "execution_count": 9,
     "metadata": {},
     "output_type": "execute_result"
    },
    {
     "data": {
      "text/plain": [
       "([<matplotlib.patches.Wedge at 0x1d8a319a070>,\n",
       "  <matplotlib.patches.Wedge at 0x1d8a31798e0>],\n",
       " [Text(-0.8801026332278259, 0.6598631335250117, 'no'),\n",
       "  Text(0.8801026332278258, -0.6598631335250118, 'yes')],\n",
       " [Text(-0.48005598176063224, 0.3599253455590972, '79.5%'),\n",
       "  Text(0.48005598176063213, -0.3599253455590973, '20.5%')])"
      ]
     },
     "execution_count": 9,
     "metadata": {},
     "output_type": "execute_result"
    },
    {
     "data": {
      "text/plain": [
       "<AxesSubplot:>"
      ]
     },
     "execution_count": 9,
     "metadata": {},
     "output_type": "execute_result"
    },
    {
     "data": {
      "text/plain": [
       "([<matplotlib.patches.Wedge at 0x1d8a31e3280>,\n",
       "  <matplotlib.patches.Wedge at 0x1d8a31e3a30>,\n",
       "  <matplotlib.patches.Wedge at 0x1d8a31f3100>,\n",
       "  <matplotlib.patches.Wedge at 0x1d8a31f3790>],\n",
       " [Text(0.722119686055283, 0.8297850077046582, 'southeast'),\n",
       "  Text(-0.8627681631663758, 0.6823716704454532, 'northwest'),\n",
       "  Text(-0.7201694244483215, -0.8314782018127556, 'southwest'),\n",
       "  Text(0.7967551940047443, -0.7584069889092945, 'northeast')],\n",
       " [Text(0.39388346512106337, 0.4526100042025408, '27.2%'),\n",
       "  Text(-0.47060081627256856, 0.37220272933388354, '24.3%'),\n",
       "  Text(-0.3928196860627208, -0.45353356462513933, '24.3%'),\n",
       "  Text(0.4345937421844059, -0.41367653940506965, '24.2%')])"
      ]
     },
     "execution_count": 9,
     "metadata": {},
     "output_type": "execute_result"
    },
    {
     "data": {
      "image/png": "[encoded data removed]",
      "text/plain": [
       "<Figure size 1440x720 with 3 Axes>"
      ]
     },
     "metadata": {},
     "output_type": "display_data"
    }
   ],
   "source": [
    "features = ['sex', 'smoker', 'region']\n",
    "\n",
    "fig = plt.figure(figsize=(20,10))\n",
    "fig.patch.set_facecolor('white')\n",
    "for i, col in enumerate(features):\n",
    "    plt.subplot(1, 3, i+1)\n",
    "    \n",
    "    x = df[col].value_counts()\n",
    "    plt.pie(x.values, labels = x.index, autopct='%1.1f%%')\n",
    "    \n",
    "plt.show()"
   ]
  },
  {
   "cell_type": "markdown",
   "id": "704876a8-da49-48e2-92e3-c0a00f97b617",
   "metadata": {},
   "source": [
    "- The data is equally distributed among the sex and the region columns but in the smoker column, we can observe a ratio of 80:20."
   ]
  },
  {
   "cell_type": "code",
   "execution_count": 10,
   "id": "11b31780-5389-4a30-b030-2782f603d0f5",
   "metadata": {},
   "outputs": [
    {
     "data": {
      "text/html": [
       "<div>\n",
       "<style scoped>\n",
       "    .dataframe tbody tr th:only-of-type {\n",
       "        vertical-align: middle;\n",
       "    }\n",
       "\n",
       "    .dataframe tbody tr th {\n",
       "        vertical-align: top;\n",
       "    }\n",
       "\n",
       "    .dataframe thead th {\n",
       "        text-align: right;\n",
       "    }\n",
       "</style>\n",
       "<table border=\"1\" class=\"dataframe\">\n",
       "  <thead>\n",
       "    <tr style=\"text-align: right;\">\n",
       "      <th></th>\n",
       "      <th>age</th>\n",
       "      <th>bmi</th>\n",
       "      <th>children</th>\n",
       "      <th>charges</th>\n",
       "    </tr>\n",
       "    <tr>\n",
       "      <th>sex</th>\n",
       "      <th></th>\n",
       "      <th></th>\n",
       "      <th></th>\n",
       "      <th></th>\n",
       "    </tr>\n",
       "  </thead>\n",
       "  <tbody>\n",
       "    <tr>\n",
       "      <th>female</th>\n",
       "      <td>39.503021</td>\n",
       "      <td>30.377749</td>\n",
       "      <td>1.074018</td>\n",
       "      <td>12569.578844</td>\n",
       "    </tr>\n",
       "    <tr>\n",
       "      <th>male</th>\n",
       "      <td>38.917160</td>\n",
       "      <td>30.943129</td>\n",
       "      <td>1.115385</td>\n",
       "      <td>13956.751178</td>\n",
       "    </tr>\n",
       "  </tbody>\n",
       "</table>\n",
       "</div>"
      ],
      "text/plain": [
       "              age        bmi  children       charges\n",
       "sex                                                 \n",
       "female  39.503021  30.377749  1.074018  12569.578844\n",
       "male    38.917160  30.943129  1.115385  13956.751178"
      ]
     },
     "execution_count": 10,
     "metadata": {},
     "output_type": "execute_result"
    },
    {
     "data": {
      "text/plain": [
       "sex\n",
       "female    12569.578844\n",
       "male      13956.751178\n",
       "Name: charges, dtype: float64"
      ]
     },
     "execution_count": 10,
     "metadata": {},
     "output_type": "execute_result"
    }
   ],
   "source": [
    "df.groupby('sex').mean()\n",
    "df.groupby('sex').mean()['charges']"
   ]
  },
  {
   "cell_type": "code",
   "execution_count": 11,
   "id": "42bba8f5-5f7d-4dab-affc-5bc2927ac403",
   "metadata": {},
   "outputs": [
    {
     "data": {
      "text/plain": [
       "<AxesSubplot:>"
      ]
     },
     "execution_count": 11,
     "metadata": {},
     "output_type": "execute_result"
    },
    {
     "data": {
      "text/plain": [
       "<AxesSubplot:xlabel='sex'>"
      ]
     },
     "execution_count": 11,
     "metadata": {},
     "output_type": "execute_result"
    },
    {
     "data": {
      "text/plain": [
       "<AxesSubplot:>"
      ]
     },
     "execution_count": 11,
     "metadata": {},
     "output_type": "execute_result"
    },
    {
     "data": {
      "text/plain": [
       "<AxesSubplot:xlabel='children'>"
      ]
     },
     "execution_count": 11,
     "metadata": {},
     "output_type": "execute_result"
    },
    {
     "data": {
      "text/plain": [
       "<AxesSubplot:>"
      ]
     },
     "execution_count": 11,
     "metadata": {},
     "output_type": "execute_result"
    },
    {
     "data": {
      "text/plain": [
       "<AxesSubplot:xlabel='smoker'>"
      ]
     },
     "execution_count": 11,
     "metadata": {},
     "output_type": "execute_result"
    },
    {
     "data": {
      "text/plain": [
       "<AxesSubplot:>"
      ]
     },
     "execution_count": 11,
     "metadata": {},
     "output_type": "execute_result"
    },
    {
     "data": {
      "text/plain": [
       "<AxesSubplot:xlabel='region'>"
      ]
     },
     "execution_count": 11,
     "metadata": {},
     "output_type": "execute_result"
    },
    {
     "data": {
      "image/png": "[encoded data removed]",
      "text/plain": [
       "<Figure size 1440x720 with 4 Axes>"
      ]
     },
     "metadata": {
      "needs_background": "light"
     },
     "output_type": "display_data"
    }
   ],
   "source": [
    "features = ['sex', 'children', 'smoker', 'region']\n",
    " \n",
    "fig = plt.figure(figsize=(20, 10))\n",
    "\n",
    "for i, col in enumerate(features):\n",
    "    plt.subplot(2, 2, i + 1)\n",
    "    df.groupby(col).mean()['charges'].plot.bar()\n",
    "plt.show()"
   ]
  },
  {
   "cell_type": "markdown",
   "id": "df211eef-8707-438a-88ae-46ce5bce61f1",
   "metadata": {},
   "source": [
    "- Charges are on the higher side for males as compared to females but the difference is not that much.\n",
    "- Premium charged from the smoker is around thrice that which is charged from non-smokers.\n",
    "- Charges are approximately the same in the given four regions."
   ]
  },
  {
   "cell_type": "code",
   "execution_count": 12,
   "id": "a6425fe6-3284-42fd-94e3-19ccd69fb7d4",
   "metadata": {},
   "outputs": [
    {
     "data": {
      "text/plain": [
       "<AxesSubplot:>"
      ]
     },
     "execution_count": 12,
     "metadata": {},
     "output_type": "execute_result"
    },
    {
     "data": {
      "text/plain": [
       "<AxesSubplot:xlabel='age', ylabel='charges'>"
      ]
     },
     "execution_count": 12,
     "metadata": {},
     "output_type": "execute_result"
    },
    {
     "data": {
      "text/plain": [
       "<AxesSubplot:>"
      ]
     },
     "execution_count": 12,
     "metadata": {},
     "output_type": "execute_result"
    },
    {
     "data": {
      "text/plain": [
       "<AxesSubplot:xlabel='bmi', ylabel='charges'>"
      ]
     },
     "execution_count": 12,
     "metadata": {},
     "output_type": "execute_result"
    },
    {
     "data": {
      "image/png": "[encoded data removed]",
      "text/plain": [
       "<Figure size 1224x504 with 2 Axes>"
      ]
     },
     "metadata": {
      "needs_background": "light"
     },
     "output_type": "display_data"
    }
   ],
   "source": [
    "features = ['age', 'bmi']\n",
    " \n",
    "fig = plt.figure(figsize=(17, 7))\n",
    "for i, col in enumerate(features):\n",
    "    plt.subplot(1, 2, i + 1)\n",
    "    sns.scatterplot(data=df, x=col, y='charges', hue='smoker')\n",
    "plt.show()"
   ]
  },
  {
   "cell_type": "markdown",
   "id": "80c1889c-3068-49f1-aa1d-239740db7b0a",
   "metadata": {},
   "source": [
    "A clear distinction can be observed here between the charges that smokers have to pay. Also here as well we can observe that as the age of a person increases premium prices goes up as well."
   ]
  },
  {
   "cell_type": "markdown",
   "id": "ff137464-0e17-4533-a899-436ed4f5161d",
   "metadata": {},
   "source": [
    "### Data Processing"
   ]
  },
  {
   "cell_type": "markdown",
   "id": "ac8d9aa7-2d17-4297-9760-55f0adfc59a6",
   "metadata": {},
   "source": [
    "##### Checking for Duplicates"
   ]
  },
  {
   "cell_type": "code",
   "execution_count": 13,
   "id": "e9f74159-b938-4c90-9a77-eb98a1559d59",
   "metadata": {},
   "outputs": [
    {
     "data": {
      "text/html": [
       "<div>\n",
       "<style scoped>\n",
       "    .dataframe tbody tr th:only-of-type {\n",
       "        vertical-align: middle;\n",
       "    }\n",
       "\n",
       "    .dataframe tbody tr th {\n",
       "        vertical-align: top;\n",
       "    }\n",
       "\n",
       "    .dataframe thead th {\n",
       "        text-align: right;\n",
       "    }\n",
       "</style>\n",
       "<table border=\"1\" class=\"dataframe\">\n",
       "  <thead>\n",
       "    <tr style=\"text-align: right;\">\n",
       "      <th></th>\n",
       "      <th>age</th>\n",
       "      <th>sex</th>\n",
       "      <th>bmi</th>\n",
       "      <th>children</th>\n",
       "      <th>smoker</th>\n",
       "      <th>region</th>\n",
       "      <th>charges</th>\n",
       "    </tr>\n",
       "  </thead>\n",
       "  <tbody>\n",
       "    <tr>\n",
       "      <th>581</th>\n",
       "      <td>19</td>\n",
       "      <td>male</td>\n",
       "      <td>30.59</td>\n",
       "      <td>0</td>\n",
       "      <td>no</td>\n",
       "      <td>northwest</td>\n",
       "      <td>1639.5631</td>\n",
       "    </tr>\n",
       "  </tbody>\n",
       "</table>\n",
       "</div>"
      ],
      "text/plain": [
       "     age   sex    bmi  children smoker     region    charges\n",
       "581   19  male  30.59         0     no  northwest  1639.5631"
      ]
     },
     "execution_count": 13,
     "metadata": {},
     "output_type": "execute_result"
    }
   ],
   "source": [
    "duplicates = df[df.duplicated()]\n",
    "duplicates"
   ]
  },
  {
   "cell_type": "code",
   "execution_count": 14,
   "id": "d3fd6fc7-a9f1-45d1-a797-ee9585ea8ba2",
   "metadata": {},
   "outputs": [],
   "source": [
    "df.drop_duplicates(inplace = True)"
   ]
  },
  {
   "cell_type": "code",
   "execution_count": 15,
   "id": "f53fa5c4-3a29-40f6-98fc-dff26946c46d",
   "metadata": {},
   "outputs": [
    {
     "data": {
      "text/html": [
       "<div>\n",
       "<style scoped>\n",
       "    .dataframe tbody tr th:only-of-type {\n",
       "        vertical-align: middle;\n",
       "    }\n",
       "\n",
       "    .dataframe tbody tr th {\n",
       "        vertical-align: top;\n",
       "    }\n",
       "\n",
       "    .dataframe thead th {\n",
       "        text-align: right;\n",
       "    }\n",
       "</style>\n",
       "<table border=\"1\" class=\"dataframe\">\n",
       "  <thead>\n",
       "    <tr style=\"text-align: right;\">\n",
       "      <th></th>\n",
       "      <th>age</th>\n",
       "      <th>sex</th>\n",
       "      <th>bmi</th>\n",
       "      <th>children</th>\n",
       "      <th>smoker</th>\n",
       "      <th>region</th>\n",
       "      <th>charges</th>\n",
       "    </tr>\n",
       "  </thead>\n",
       "  <tbody>\n",
       "  </tbody>\n",
       "</table>\n",
       "</div>"
      ],
      "text/plain": [
       "Empty DataFrame\n",
       "Columns: [age, sex, bmi, children, smoker, region, charges]\n",
       "Index: []"
      ]
     },
     "execution_count": 15,
     "metadata": {},
     "output_type": "execute_result"
    }
   ],
   "source": [
    "## check duplicates again\n",
    "duplicates_check = df[df.duplicated()]\n",
    "duplicates_check"
   ]
  },
  {
   "cell_type": "markdown",
   "id": "16d5673e-afc6-4b74-b888-7b27d70ada96",
   "metadata": {},
   "source": [
    "##### Checking Dispersion of Data"
   ]
  },
  {
   "cell_type": "code",
   "execution_count": 16,
   "id": "e7c0a15c-0547-48b7-b16d-28619d41cd53",
   "metadata": {},
   "outputs": [
    {
     "data": {
      "text/plain": [
       "<AxesSubplot:xlabel='age'>"
      ]
     },
     "execution_count": 16,
     "metadata": {},
     "output_type": "execute_result"
    },
    {
     "data": {
      "image/png": "[encoded data removed]",
      "text/plain": [
       "<Figure size 432x288 with 1 Axes>"
      ]
     },
     "metadata": {
      "needs_background": "light"
     },
     "output_type": "display_data"
    }
   ],
   "source": [
    "sns.boxplot(df['age'])"
   ]
  },
  {
   "cell_type": "code",
   "execution_count": 17,
   "id": "7cbe9138-4be4-4110-a92d-d324a83990ef",
   "metadata": {},
   "outputs": [
    {
     "data": {
      "text/plain": [
       "<AxesSubplot:xlabel='bmi'>"
      ]
     },
     "execution_count": 17,
     "metadata": {},
     "output_type": "execute_result"
    },
    {
     "data": {
      "image/png": "[encoded data removed]",
      "text/plain": [
       "<Figure size 432x288 with 1 Axes>"
      ]
     },
     "metadata": {
      "needs_background": "light"
     },
     "output_type": "display_data"
    }
   ],
   "source": [
    "sns.boxplot(df['bmi'])"
   ]
  },
  {
   "cell_type": "markdown",
   "id": "0886b227-f50e-4da7-8694-85ac6daf5f4f",
   "metadata": {},
   "source": [
    "- To address the presence of outliers in the \"bmi\" column, we should handle them by replacing the outlier values with the mean value. This is necessary because the \"bmi\" column contains continuous data."
   ]
  },
  {
   "cell_type": "code",
   "execution_count": 18,
   "id": "b45d2d05-b2fe-4734-9465-3f796f65b8fc",
   "metadata": {},
   "outputs": [
    {
     "data": {
      "text/plain": [
       "0.25    26.29\n",
       "0.50    30.40\n",
       "0.75    34.70\n",
       "Name: bmi, dtype: float64"
      ]
     },
     "execution_count": 18,
     "metadata": {},
     "output_type": "execute_result"
    }
   ],
   "source": [
    "df['bmi'].quantile([0.25, 0.5, 0.75])"
   ]
  },
  {
   "cell_type": "code",
   "execution_count": 19,
   "id": "7c034506-dc84-40da-9648-07c2dda495d0",
   "metadata": {},
   "outputs": [
    {
     "data": {
      "text/plain": [
       "13.674999999999994"
      ]
     },
     "execution_count": 19,
     "metadata": {},
     "output_type": "execute_result"
    },
    {
     "data": {
      "text/plain": [
       "47.31500000000001"
      ]
     },
     "execution_count": 19,
     "metadata": {},
     "output_type": "execute_result"
    }
   ],
   "source": [
    "interquartile = df['bmi'].quantile(0.75) - df['bmi'].quantile(0.25) # Q3 - Q1\n",
    "\n",
    "lower_outlier_limit = df['bmi'].quantile(0.25) - (1.5 * interquartile)\n",
    "upper_outlier_limit = df['bmi'].quantile(0.75) + (1.5 * interquartile)\n",
    "\n",
    "lower_outlier_limit\n",
    "upper_outlier_limit"
   ]
  },
  {
   "cell_type": "code",
   "execution_count": 20,
   "id": "4b0fc861-41a2-4250-8907-a5ba70acca7a",
   "metadata": {},
   "outputs": [],
   "source": [
    "# Capping the outlier values i.e bringing them to the lower and upper outlier limit\n",
    "df.loc[df['bmi'] < lower_outlier_limit, 'bmi'] = lower_outlier_limit\n",
    "df.loc[df['bmi'] > upper_outlier_limit, 'bmi'] = upper_outlier_limit\n",
    "\n",
    "#Alternatively using feature_engine library\n",
    "# from feature_engine.outliers import ArbitraryOutlierCapper\n",
    "# arb=ArbitraryOutlierCapper(min_capping_dict={'bmi':13.6749},max_capping_dict={'bmi':47.315})\n",
    "# df[['bmi']]=arb.fit_transform(df[['bmi']])\n",
    "# sns.boxplot(df['bmi'])"
   ]
  },
  {
   "cell_type": "code",
   "execution_count": 21,
   "id": "54615bed-4b69-44ff-9c7c-d9e151ac9b99",
   "metadata": {},
   "outputs": [
    {
     "data": {
      "text/plain": [
       "<AxesSubplot:xlabel='bmi'>"
      ]
     },
     "execution_count": 21,
     "metadata": {},
     "output_type": "execute_result"
    },
    {
     "data": {
      "image/png": "[encoded data removed]",
      "text/plain": [
       "<Figure size 432x288 with 1 Axes>"
      ]
     },
     "metadata": {
      "needs_background": "light"
     },
     "output_type": "display_data"
    }
   ],
   "source": [
    "sns.boxplot(df['bmi'])"
   ]
  },
  {
   "cell_type": "markdown",
   "id": "ac37c6a7-d587-4ee3-a664-32c68eeeb6c8",
   "metadata": {},
   "source": [
    "#### Encoding"
   ]
  },
  {
   "cell_type": "markdown",
   "id": "0db8b5ac-ab6b-4bf6-885f-977336ae50a0",
   "metadata": {},
   "source": [
    "- Encoding is to be done for discrete categorical data (sex,smoker,region)."
   ]
  },
  {
   "cell_type": "code",
   "execution_count": 22,
   "id": "ac439341-1adc-4175-a4b4-cde2b327e7c5",
   "metadata": {},
   "outputs": [],
   "source": [
    "df['sex']=df['sex'].map({'male':0,'female':1})\n",
    "df['smoker']=df['smoker'].map({'yes':1,'no':0})\n",
    "df['region']=df['region'].map({'northwest':0, 'northeast':1,'southeast':2,'southwest':3})"
   ]
  },
  {
   "cell_type": "code",
   "execution_count": 23,
   "id": "26f5b59a-62ad-4cec-9026-26716d77d453",
   "metadata": {},
   "outputs": [
    {
     "data": {
      "text/html": [
       "<div>\n",
       "<style scoped>\n",
       "    .dataframe tbody tr th:only-of-type {\n",
       "        vertical-align: middle;\n",
       "    }\n",
       "\n",
       "    .dataframe tbody tr th {\n",
       "        vertical-align: top;\n",
       "    }\n",
       "\n",
       "    .dataframe thead th {\n",
       "        text-align: right;\n",
       "    }\n",
       "</style>\n",
       "<table border=\"1\" class=\"dataframe\">\n",
       "  <thead>\n",
       "    <tr style=\"text-align: right;\">\n",
       "      <th></th>\n",
       "      <th>age</th>\n",
       "      <th>sex</th>\n",
       "      <th>bmi</th>\n",
       "      <th>children</th>\n",
       "      <th>smoker</th>\n",
       "      <th>region</th>\n",
       "      <th>charges</th>\n",
       "    </tr>\n",
       "  </thead>\n",
       "  <tbody>\n",
       "    <tr>\n",
       "      <th>0</th>\n",
       "      <td>19</td>\n",
       "      <td>1</td>\n",
       "      <td>27.900</td>\n",
       "      <td>0</td>\n",
       "      <td>1</td>\n",
       "      <td>3</td>\n",
       "      <td>16884.92400</td>\n",
       "    </tr>\n",
       "    <tr>\n",
       "      <th>1</th>\n",
       "      <td>18</td>\n",
       "      <td>0</td>\n",
       "      <td>33.770</td>\n",
       "      <td>1</td>\n",
       "      <td>0</td>\n",
       "      <td>2</td>\n",
       "      <td>1725.55230</td>\n",
       "    </tr>\n",
       "    <tr>\n",
       "      <th>2</th>\n",
       "      <td>28</td>\n",
       "      <td>0</td>\n",
       "      <td>33.000</td>\n",
       "      <td>3</td>\n",
       "      <td>0</td>\n",
       "      <td>2</td>\n",
       "      <td>4449.46200</td>\n",
       "    </tr>\n",
       "    <tr>\n",
       "      <th>3</th>\n",
       "      <td>33</td>\n",
       "      <td>0</td>\n",
       "      <td>22.705</td>\n",
       "      <td>0</td>\n",
       "      <td>0</td>\n",
       "      <td>0</td>\n",
       "      <td>21984.47061</td>\n",
       "    </tr>\n",
       "    <tr>\n",
       "      <th>4</th>\n",
       "      <td>32</td>\n",
       "      <td>0</td>\n",
       "      <td>28.880</td>\n",
       "      <td>0</td>\n",
       "      <td>0</td>\n",
       "      <td>0</td>\n",
       "      <td>3866.85520</td>\n",
       "    </tr>\n",
       "  </tbody>\n",
       "</table>\n",
       "</div>"
      ],
      "text/plain": [
       "   age  sex     bmi  children  smoker  region      charges\n",
       "0   19    1  27.900         0       1       3  16884.92400\n",
       "1   18    0  33.770         1       0       2   1725.55230\n",
       "2   28    0  33.000         3       0       2   4449.46200\n",
       "3   33    0  22.705         0       0       0  21984.47061\n",
       "4   32    0  28.880         0       0       0   3866.85520"
      ]
     },
     "execution_count": 23,
     "metadata": {},
     "output_type": "execute_result"
    }
   ],
   "source": [
    "df.head()"
   ]
  },
  {
   "cell_type": "markdown",
   "id": "cf1096fb-7056-4c0e-b30f-19c1f0df8a02",
   "metadata": {},
   "source": [
    "- The discrete data has been encoded, and the process of preparing and refining the data is finished. We are now ready to move on to building the model."
   ]
  },
  {
   "cell_type": "code",
   "execution_count": 24,
   "id": "ba8c7e70-3e8e-4b9f-9fa4-bdc4ba82627c",
   "metadata": {},
   "outputs": [
    {
     "data": {
      "text/html": [
       "<div>\n",
       "<style scoped>\n",
       "    .dataframe tbody tr th:only-of-type {\n",
       "        vertical-align: middle;\n",
       "    }\n",
       "\n",
       "    .dataframe tbody tr th {\n",
       "        vertical-align: top;\n",
       "    }\n",
       "\n",
       "    .dataframe thead th {\n",
       "        text-align: right;\n",
       "    }\n",
       "</style>\n",
       "<table border=\"1\" class=\"dataframe\">\n",
       "  <thead>\n",
       "    <tr style=\"text-align: right;\">\n",
       "      <th></th>\n",
       "      <th>age</th>\n",
       "      <th>sex</th>\n",
       "      <th>bmi</th>\n",
       "      <th>children</th>\n",
       "      <th>smoker</th>\n",
       "      <th>region</th>\n",
       "      <th>charges</th>\n",
       "    </tr>\n",
       "  </thead>\n",
       "  <tbody>\n",
       "    <tr>\n",
       "      <th>age</th>\n",
       "      <td>1.000000</td>\n",
       "      <td>0.019814</td>\n",
       "      <td>0.111998</td>\n",
       "      <td>0.041536</td>\n",
       "      <td>-0.025587</td>\n",
       "      <td>0.001771</td>\n",
       "      <td>0.298308</td>\n",
       "    </tr>\n",
       "    <tr>\n",
       "      <th>sex</th>\n",
       "      <td>0.019814</td>\n",
       "      <td>1.000000</td>\n",
       "      <td>-0.044831</td>\n",
       "      <td>-0.017848</td>\n",
       "      <td>-0.076596</td>\n",
       "      <td>-0.008998</td>\n",
       "      <td>-0.058044</td>\n",
       "    </tr>\n",
       "    <tr>\n",
       "      <th>bmi</th>\n",
       "      <td>0.111998</td>\n",
       "      <td>-0.044831</td>\n",
       "      <td>1.000000</td>\n",
       "      <td>0.013692</td>\n",
       "      <td>0.003151</td>\n",
       "      <td>0.156937</td>\n",
       "      <td>0.199063</td>\n",
       "    </tr>\n",
       "    <tr>\n",
       "      <th>children</th>\n",
       "      <td>0.041536</td>\n",
       "      <td>-0.017848</td>\n",
       "      <td>0.013692</td>\n",
       "      <td>1.000000</td>\n",
       "      <td>0.007331</td>\n",
       "      <td>-0.002842</td>\n",
       "      <td>0.067389</td>\n",
       "    </tr>\n",
       "    <tr>\n",
       "      <th>smoker</th>\n",
       "      <td>-0.025587</td>\n",
       "      <td>-0.076596</td>\n",
       "      <td>0.003151</td>\n",
       "      <td>0.007331</td>\n",
       "      <td>1.000000</td>\n",
       "      <td>0.012736</td>\n",
       "      <td>0.787234</td>\n",
       "    </tr>\n",
       "    <tr>\n",
       "      <th>region</th>\n",
       "      <td>0.001771</td>\n",
       "      <td>-0.008998</td>\n",
       "      <td>0.156937</td>\n",
       "      <td>-0.002842</td>\n",
       "      <td>0.012736</td>\n",
       "      <td>1.000000</td>\n",
       "      <td>0.010767</td>\n",
       "    </tr>\n",
       "    <tr>\n",
       "      <th>charges</th>\n",
       "      <td>0.298308</td>\n",
       "      <td>-0.058044</td>\n",
       "      <td>0.199063</td>\n",
       "      <td>0.067389</td>\n",
       "      <td>0.787234</td>\n",
       "      <td>0.010767</td>\n",
       "      <td>1.000000</td>\n",
       "    </tr>\n",
       "  </tbody>\n",
       "</table>\n",
       "</div>"
      ],
      "text/plain": [
       "               age       sex       bmi  children    smoker    region   charges\n",
       "age       1.000000  0.019814  0.111998  0.041536 -0.025587  0.001771  0.298308\n",
       "sex       0.019814  1.000000 -0.044831 -0.017848 -0.076596 -0.008998 -0.058044\n",
       "bmi       0.111998 -0.044831  1.000000  0.013692  0.003151  0.156937  0.199063\n",
       "children  0.041536 -0.017848  0.013692  1.000000  0.007331 -0.002842  0.067389\n",
       "smoker   -0.025587 -0.076596  0.003151  0.007331  1.000000  0.012736  0.787234\n",
       "region    0.001771 -0.008998  0.156937 -0.002842  0.012736  1.000000  0.010767\n",
       "charges   0.298308 -0.058044  0.199063  0.067389  0.787234  0.010767  1.000000"
      ]
     },
     "execution_count": 24,
     "metadata": {},
     "output_type": "execute_result"
    }
   ],
   "source": [
    "df.corr()"
   ]
  },
  {
   "cell_type": "markdown",
   "id": "c716c5bf-4e73-4a27-8d8b-a0502e491be4",
   "metadata": {},
   "source": [
    "### Model Development"
   ]
  },
  {
   "cell_type": "code",
   "execution_count": 25,
   "id": "c874667a-99a4-43e3-8676-b4a754aef261",
   "metadata": {},
   "outputs": [],
   "source": [
    "X = df.drop(['charges'],axis=1)\n",
    "y = df[['charges']]"
   ]
  },
  {
   "cell_type": "markdown",
   "id": "269a53f9-6ae9-4b02-a334-aee3580feb54",
   "metadata": {},
   "source": [
    "###### LinearRegression()"
   ]
  },
  {
   "cell_type": "code",
   "execution_count": 26,
   "id": "125fd01b-ca12-47ac-a84f-43a48b45c404",
   "metadata": {},
   "outputs": [
    {
     "data": {
      "text/plain": [
       "LinearRegression()"
      ]
     },
     "execution_count": 26,
     "metadata": {},
     "output_type": "execute_result"
    },
    {
     "name": "stdout",
     "output_type": "stream",
     "text": [
      "0.7295415541376445\n",
      "0.8062391115570589\n",
      "0.7470697972809902\n"
     ]
    }
   ],
   "source": [
    "Xtrain, Xtest, ytrain, ytest = train_test_split(X, y, test_size=0.2, random_state=42)\n",
    "lrmodel=LinearRegression()\n",
    "lrmodel.fit(Xtrain, ytrain)\n",
    "print(lrmodel.score(Xtrain,ytrain))\n",
    "print(lrmodel.score(Xtest,ytest))\n",
    "print(cross_val_score(lrmodel, X, y, cv=5).mean())"
   ]
  },
  {
   "cell_type": "markdown",
   "id": "efe823fd-4b99-441c-93a4-8d05010349fe",
   "metadata": {},
   "source": [
    "###### SVR()"
   ]
  },
  {
   "cell_type": "code",
   "execution_count": 27,
   "id": "feb6323c-0c4c-4800-853e-54b86e1aa019",
   "metadata": {},
   "outputs": [
    {
     "data": {
      "text/plain": [
       "SVR()"
      ]
     },
     "execution_count": 27,
     "metadata": {},
     "output_type": "execute_result"
    },
    {
     "name": "stdout",
     "output_type": "stream",
     "text": [
      "-23774.40412212514\n",
      "-32345.423540931948\n",
      "-0.10374591327267262\n"
     ]
    }
   ],
   "source": [
    "svrmodel=SVR()\n",
    "svrmodel.fit(Xtrain, ytrain)\n",
    "ypredtrain1=svrmodel.predict(Xtrain)\n",
    "ypredtest1=svrmodel.predict(Xtest)\n",
    "print(r2_score(ypredtrain1, ytrain))\n",
    "print(r2_score(ypredtest1, ytest))\n",
    "print(cross_val_score(svrmodel, X, y, cv=5).mean())"
   ]
  },
  {
   "cell_type": "markdown",
   "id": "bc03d257-b500-47bc-a688-9de6a2399c10",
   "metadata": {},
   "source": [
    "###### RandomForest()"
   ]
  },
  {
   "cell_type": "code",
   "execution_count": 29,
   "id": "2de4e25f-4e61-4120-81cc-b452c79c38e7",
   "metadata": {},
   "outputs": [
    {
     "data": {
      "text/plain": [
       "RandomForestRegressor(random_state=42)"
      ]
     },
     "execution_count": 29,
     "metadata": {},
     "output_type": "execute_result"
    },
    {
     "name": "stdout",
     "output_type": "stream",
     "text": [
      "0.9738163260247533\n",
      "0.8819423353068565\n",
      "0.8363637309718952\n"
     ]
    },
    {
     "data": {
      "text/plain": [
       "GridSearchCV(cv=5, estimator=RandomForestRegressor(random_state=42),\n",
       "             param_grid={'n_estimators': [10, 40, 50, 98, 100, 120, 150]},\n",
       "             scoring='r2')"
      ]
     },
     "execution_count": 29,
     "metadata": {},
     "output_type": "execute_result"
    },
    {
     "name": "stdout",
     "output_type": "stream",
     "text": [
      "{'n_estimators': 120}\n"
     ]
    }
   ],
   "source": [
    "rfmodel=RandomForestRegressor(random_state=42)\n",
    "rfmodel.fit(Xtrain, ytrain)\n",
    "ypredtrain2 = rfmodel.predict(Xtrain)\n",
    "ypredtest2 = rfmodel.predict(Xtest)\n",
    "print(r2_score(ytrain, ypredtrain2))\n",
    "print(r2_score(ytest, ypredtest2))\n",
    "print(cross_val_score(rfmodel, X, y, cv=5,).mean())\n",
    "\n",
    "\n",
    "estimator=RandomForestRegressor(random_state=42)\n",
    "param_grid={'n_estimators':[10,40,50,98,100,120,150]}\n",
    "grid=GridSearchCV(estimator, param_grid, scoring=\"r2\", cv=5)\n",
    "grid.fit(Xtrain,ytrain)\n",
    "print(grid.best_params_)"
   ]
  },
  {
   "cell_type": "code",
   "execution_count": 31,
   "id": "340a4891-9151-4b64-9033-3eb8092d4209",
   "metadata": {},
   "outputs": [
    {
     "data": {
      "text/plain": [
       "RandomForestRegressor(n_estimators=120, random_state=42)"
      ]
     },
     "execution_count": 31,
     "metadata": {},
     "output_type": "execute_result"
    },
    {
     "name": "stdout",
     "output_type": "stream",
     "text": [
      "0.9746383984429655\n",
      "0.8822009842175969\n",
      "0.8367438097052858\n"
     ]
    }
   ],
   "source": [
    "rfmodel=RandomForestRegressor(random_state=42, n_estimators=120)\n",
    "rfmodel.fit(Xtrain,ytrain)\n",
    "ypredtrain2=rfmodel.predict(Xtrain)\n",
    "ypredtest2=rfmodel.predict(Xtest)\n",
    "print(r2_score(ytrain, ypredtrain2))\n",
    "print(r2_score(ytest, ypredtest2))\n",
    "print(cross_val_score(rfmodel,X,y,cv=5).mean())"
   ]
  },
  {
   "cell_type": "markdown",
   "id": "4dd454ad-e6b2-42f0-a34b-a8df3da9545e",
   "metadata": {},
   "source": [
    "###### GradientBoosting"
   ]
  },
  {
   "cell_type": "code",
   "execution_count": 32,
   "id": "6cf3bf74-aa3e-4cd5-8402-858369c3ab34",
   "metadata": {},
   "outputs": [
    {
     "data": {
      "text/plain": [
       "GradientBoostingRegressor()"
      ]
     },
     "execution_count": 32,
     "metadata": {},
     "output_type": "execute_result"
    },
    {
     "name": "stdout",
     "output_type": "stream",
     "text": [
      "0.8931345821166041\n",
      "0.9042552707052232\n",
      "0.8549598587976664\n"
     ]
    },
    {
     "data": {
      "text/plain": [
       "GridSearchCV(cv=5, estimator=GradientBoostingRegressor(),\n",
       "             param_grid={'learning_rate': [0.1, 0.19, 0.2, 0.21, 0.8, 1],\n",
       "                         'n_estimators': [10, 15, 19, 20, 21, 50]},\n",
       "             scoring='r2')"
      ]
     },
     "execution_count": 32,
     "metadata": {},
     "output_type": "execute_result"
    },
    {
     "name": "stdout",
     "output_type": "stream",
     "text": [
      "{'learning_rate': 0.2, 'n_estimators': 19}\n"
     ]
    }
   ],
   "source": [
    "gbmodel=GradientBoostingRegressor()\n",
    "gbmodel.fit(Xtrain,ytrain)\n",
    "ypredtrain3=gbmodel.predict(Xtrain)\n",
    "ypredtest3=gbmodel.predict(Xtest)\n",
    "print(r2_score(ytrain,ypredtrain3))\n",
    "print(r2_score(ytest,ypredtest3))\n",
    "print(cross_val_score(gbmodel,X,y,cv=5).mean())\n",
    "\n",
    "estimator=GradientBoostingRegressor()\n",
    "param_grid={'n_estimators':[10,15,19,20,21,50],'learning_rate':[0.1,0.19,0.2,0.21,0.8,1]}\n",
    "grid=GridSearchCV(estimator, param_grid, scoring=\"r2\", cv=5)\n",
    "grid.fit(Xtrain,ytrain)\n",
    "print(grid.best_params_)"
   ]
  },
  {
   "cell_type": "code",
   "execution_count": 33,
   "id": "1af4424a-a5d2-4a55-a30d-6d4025709e09",
   "metadata": {},
   "outputs": [
    {
     "data": {
      "text/plain": [
       "GradientBoostingRegressor(learning_rate=0.2, n_estimators=19)"
      ]
     },
     "execution_count": 33,
     "metadata": {},
     "output_type": "execute_result"
    },
    {
     "name": "stdout",
     "output_type": "stream",
     "text": [
      "0.8682397447116926\n",
      "0.9017109716082662\n",
      "0.8606041910125791\n"
     ]
    }
   ],
   "source": [
    "gbmodel=GradientBoostingRegressor(n_estimators=19,learning_rate=0.2)\n",
    "gbmodel.fit(Xtrain,ytrain)\n",
    "ypredtrain3=gbmodel.predict(Xtrain)\n",
    "ypredtest3=gbmodel.predict(Xtest)\n",
    "print(r2_score(ytrain,ypredtrain3))\n",
    "print(r2_score(ytest,ypredtest3))\n",
    "print(cross_val_score(gbmodel,X,y,cv=5,).mean())"
   ]
  },
  {
   "cell_type": "markdown",
   "id": "91d84599-dc3e-4783-a147-99c1d1ebcbbe",
   "metadata": {},
   "source": [
    "###### XGB"
   ]
  },
  {
   "cell_type": "code",
   "execution_count": 34,
   "id": "a8f4ee7b-0759-40ce-b38d-94eb7aef19ed",
   "metadata": {},
   "outputs": [
    {
     "data": {
      "text/plain": [
       "XGBRegressor(base_score=None, booster=None, callbacks=None,\n",
       "             colsample_bylevel=None, colsample_bynode=None,\n",
       "             colsample_bytree=None, early_stopping_rounds=None,\n",
       "             enable_categorical=False, eval_metric=None, feature_types=None,\n",
       "             gamma=None, gpu_id=None, grow_policy=None, importance_type=None,\n",
       "             interaction_constraints=None, learning_rate=None, max_bin=None,\n",
       "             max_cat_threshold=None, max_cat_to_onehot=None,\n",
       "             max_delta_step=None, max_depth=None, max_leaves=None,\n",
       "             min_child_weight=None, missing=nan, monotone_constraints=None,\n",
       "             n_estimators=100, n_jobs=None, num_parallel_tree=None,\n",
       "             predictor=None, random_state=None, ...)"
      ]
     },
     "execution_count": 34,
     "metadata": {},
     "output_type": "execute_result"
    },
    {
     "name": "stdout",
     "output_type": "stream",
     "text": [
      "0.9944530188818493\n",
      "0.8618686915522016\n",
      "0.8104424308304893\n"
     ]
    },
    {
     "data": {
      "text/plain": [
       "GridSearchCV(cv=5,\n",
       "             estimator=XGBRegressor(base_score=None, booster=None,\n",
       "                                    callbacks=None, colsample_bylevel=None,\n",
       "                                    colsample_bynode=None,\n",
       "                                    colsample_bytree=None,\n",
       "                                    early_stopping_rounds=None,\n",
       "                                    enable_categorical=False, eval_metric=None,\n",
       "                                    feature_types=None, gamma=None, gpu_id=None,\n",
       "                                    grow_policy=None, importance_type=None,\n",
       "                                    interaction_constraints=None,\n",
       "                                    learning_rate=None, m...\n",
       "                                    max_cat_threshold=None,\n",
       "                                    max_cat_to_onehot=None, max_delta_step=None,\n",
       "                                    max_depth=None, max_leaves=None,\n",
       "                                    min_child_weight=None, missing=nan,\n",
       "                                    monotone_constraints=None, n_estimators=100,\n",
       "                                    n_jobs=None, num_parallel_tree=None,\n",
       "                                    predictor=None, random_state=None, ...),\n",
       "             param_grid={'gamma': [0, 0.15, 0.3, 0.5, 1],\n",
       "                         'max_depth': [3, 4, 5],\n",
       "                         'n_estimators': [10, 15, 20, 40, 50]},\n",
       "             scoring='r2')"
      ]
     },
     "execution_count": 34,
     "metadata": {},
     "output_type": "execute_result"
    },
    {
     "name": "stdout",
     "output_type": "stream",
     "text": [
      "{'gamma': 0, 'max_depth': 3, 'n_estimators': 15}\n"
     ]
    }
   ],
   "source": [
    "xgmodel=XGBRegressor()\n",
    "xgmodel.fit(Xtrain,ytrain)\n",
    "ypredtrain4=xgmodel.predict(Xtrain)\n",
    "ypredtest4=xgmodel.predict(Xtest)\n",
    "print(r2_score(ytrain,ypredtrain4))\n",
    "print(r2_score(ytest,ypredtest4))\n",
    "print(cross_val_score(xgmodel,X,y,cv=5,).mean())\n",
    "\n",
    "estimator=XGBRegressor()\n",
    "param_grid={'n_estimators':[10,15,20,40,50],'max_depth':[3,4,5],'gamma':[0,0.15,0.3,0.5,1]}\n",
    "grid=GridSearchCV(estimator,param_grid,scoring=\"r2\",cv=5)\n",
    "grid.fit(Xtrain,ytrain)\n",
    "print(grid.best_params_)"
   ]
  },
  {
   "cell_type": "code",
   "execution_count": 35,
   "id": "bc6002da-95dc-41d1-b040-8d197ffa6bb9",
   "metadata": {},
   "outputs": [
    {
     "data": {
      "text/plain": [
       "XGBRegressor(base_score=None, booster=None, callbacks=None,\n",
       "             colsample_bylevel=None, colsample_bynode=None,\n",
       "             colsample_bytree=None, early_stopping_rounds=None,\n",
       "             enable_categorical=False, eval_metric=None, feature_types=None,\n",
       "             gamma=0, gpu_id=None, grow_policy=None, importance_type=None,\n",
       "             interaction_constraints=None, learning_rate=None, max_bin=None,\n",
       "             max_cat_threshold=None, max_cat_to_onehot=None,\n",
       "             max_delta_step=None, max_depth=3, max_leaves=None,\n",
       "             min_child_weight=None, missing=nan, monotone_constraints=None,\n",
       "             n_estimators=15, n_jobs=None, num_parallel_tree=None,\n",
       "             predictor=None, random_state=None, ...)"
      ]
     },
     "execution_count": 35,
     "metadata": {},
     "output_type": "execute_result"
    },
    {
     "name": "stdout",
     "output_type": "stream",
     "text": [
      "0.870691899927822\n",
      "0.904151903449132\n",
      "0.8600710679082143\n"
     ]
    }
   ],
   "source": [
    "xgmodel=XGBRegressor(n_estimators=15,max_depth=3,gamma=0)\n",
    "xgmodel.fit(Xtrain, ytrain)\n",
    "ypredtrain4=xgmodel.predict(Xtrain)\n",
    "ypredtest4=xgmodel.predict(Xtest)\n",
    "print(r2_score(ytrain,ypredtrain4))\n",
    "print(r2_score(ytest,ypredtest4))\n",
    "print(cross_val_score(xgmodel,X,y,cv=5,).mean())"
   ]
  },
  {
   "cell_type": "markdown",
   "id": "8abe9baf-a26b-4318-b969-cf060364c73d",
   "metadata": {},
   "source": [
    "- From the above table we can observe that XGBoost is the best model.Now we need to identify the important features for predicting of charges."
   ]
  },
  {
   "cell_type": "code",
   "execution_count": 36,
   "id": "3675623f-6092-4a7a-97b1-4c1b36ff3615",
   "metadata": {},
   "outputs": [
    {
     "data": {
      "text/html": [
       "<div>\n",
       "<style scoped>\n",
       "    .dataframe tbody tr th:only-of-type {\n",
       "        vertical-align: middle;\n",
       "    }\n",
       "\n",
       "    .dataframe tbody tr th {\n",
       "        vertical-align: top;\n",
       "    }\n",
       "\n",
       "    .dataframe thead th {\n",
       "        text-align: right;\n",
       "    }\n",
       "</style>\n",
       "<table border=\"1\" class=\"dataframe\">\n",
       "  <thead>\n",
       "    <tr style=\"text-align: right;\">\n",
       "      <th></th>\n",
       "      <th>Importance</th>\n",
       "    </tr>\n",
       "  </thead>\n",
       "  <tbody>\n",
       "    <tr>\n",
       "      <th>age</th>\n",
       "      <td>0.050547</td>\n",
       "    </tr>\n",
       "    <tr>\n",
       "      <th>sex</th>\n",
       "      <td>0.002721</td>\n",
       "    </tr>\n",
       "    <tr>\n",
       "      <th>bmi</th>\n",
       "      <td>0.092197</td>\n",
       "    </tr>\n",
       "    <tr>\n",
       "      <th>children</th>\n",
       "      <td>0.013500</td>\n",
       "    </tr>\n",
       "    <tr>\n",
       "      <th>smoker</th>\n",
       "      <td>0.834279</td>\n",
       "    </tr>\n",
       "    <tr>\n",
       "      <th>region</th>\n",
       "      <td>0.006756</td>\n",
       "    </tr>\n",
       "  </tbody>\n",
       "</table>\n",
       "</div>"
      ],
      "text/plain": [
       "          Importance\n",
       "age         0.050547\n",
       "sex         0.002721\n",
       "bmi         0.092197\n",
       "children    0.013500\n",
       "smoker      0.834279\n",
       "region      0.006756"
      ]
     },
     "execution_count": 36,
     "metadata": {},
     "output_type": "execute_result"
    }
   ],
   "source": [
    "feats=pd.DataFrame(data=grid.best_estimator_.feature_importances_,index=X.columns,columns=['Importance'])\n",
    "feats"
   ]
  },
  {
   "cell_type": "code",
   "execution_count": 37,
   "id": "7006dbee-4825-45af-bac1-15c7615023c6",
   "metadata": {},
   "outputs": [
    {
     "data": {
      "text/html": [
       "<div>\n",
       "<style scoped>\n",
       "    .dataframe tbody tr th:only-of-type {\n",
       "        vertical-align: middle;\n",
       "    }\n",
       "\n",
       "    .dataframe tbody tr th {\n",
       "        vertical-align: top;\n",
       "    }\n",
       "\n",
       "    .dataframe thead th {\n",
       "        text-align: right;\n",
       "    }\n",
       "</style>\n",
       "<table border=\"1\" class=\"dataframe\">\n",
       "  <thead>\n",
       "    <tr style=\"text-align: right;\">\n",
       "      <th></th>\n",
       "      <th>Importance</th>\n",
       "    </tr>\n",
       "  </thead>\n",
       "  <tbody>\n",
       "    <tr>\n",
       "      <th>age</th>\n",
       "      <td>0.050547</td>\n",
       "    </tr>\n",
       "    <tr>\n",
       "      <th>bmi</th>\n",
       "      <td>0.092197</td>\n",
       "    </tr>\n",
       "    <tr>\n",
       "      <th>children</th>\n",
       "      <td>0.013500</td>\n",
       "    </tr>\n",
       "    <tr>\n",
       "      <th>smoker</th>\n",
       "      <td>0.834279</td>\n",
       "    </tr>\n",
       "  </tbody>\n",
       "</table>\n",
       "</div>"
      ],
      "text/plain": [
       "          Importance\n",
       "age         0.050547\n",
       "bmi         0.092197\n",
       "children    0.013500\n",
       "smoker      0.834279"
      ]
     },
     "execution_count": 37,
     "metadata": {},
     "output_type": "execute_result"
    }
   ],
   "source": [
    "important_features=feats[feats['Importance']>0.01]\n",
    "important_features"
   ]
  },
  {
   "cell_type": "markdown",
   "id": "e3f9e823-7877-4d10-89db-08476bc644d3",
   "metadata": {},
   "source": [
    "#### Final Model"
   ]
  },
  {
   "cell_type": "code",
   "execution_count": null,
   "id": "5baa1c6f-e23d-436e-a0f2-7ae107942a96",
   "metadata": {},
   "outputs": [],
   "source": [
    "Xf=df.drop(['charges', 'sex','region'],axis=1)\n",
    "y=df[['charges']]"
   ]
  },
  {
   "cell_type": "code",
   "execution_count": 41,
   "id": "63d6d6fc-50b6-48b9-b765-768ae2cb054a",
   "metadata": {},
   "outputs": [
    {
     "data": {
      "text/plain": [
       "XGBRegressor(base_score=None, booster=None, callbacks=None,\n",
       "             colsample_bylevel=None, colsample_bynode=None,\n",
       "             colsample_bytree=None, early_stopping_rounds=None,\n",
       "             enable_categorical=False, eval_metric=None, feature_types=None,\n",
       "             gamma=0, gpu_id=None, grow_policy=None, importance_type=None,\n",
       "             interaction_constraints=None, learning_rate=None, max_bin=None,\n",
       "             max_cat_threshold=None, max_cat_to_onehot=None,\n",
       "             max_delta_step=None, max_depth=3, max_leaves=None,\n",
       "             min_child_weight=None, missing=nan, monotone_constraints=None,\n",
       "             n_estimators=15, n_jobs=None, num_parallel_tree=None,\n",
       "             predictor=None, random_state=None, ...)"
      ]
     },
     "execution_count": 41,
     "metadata": {},
     "output_type": "execute_result"
    },
    {
     "name": "stdout",
     "output_type": "stream",
     "text": [
      "0.8685330377072453\n",
      "0.9019690386148037\n",
      "0.8596087656497564\n"
     ]
    }
   ],
   "source": [
    "Xtrain,Xtest,ytrain,ytest=train_test_split(Xf,y,test_size=0.2,random_state=42)\n",
    "\n",
    "finalmodel=XGBRegressor(n_estimators=15,max_depth=3,gamma=0)\n",
    "finalmodel.fit(Xtrain, ytrain)\n",
    "\n",
    "ypredtrain5=finalmodel.predict(Xtrain)\n",
    "ypredtest5=finalmodel.predict(Xtest)\n",
    "print(r2_score(ytrain,ypredtrain5))\n",
    "print(r2_score(ytest,ypredtest5))\n",
    "print(cross_val_score(finalmodel,X,y,cv=5,).mean())"
   ]
  },
  {
   "cell_type": "markdown",
   "id": "4c7dd546-af56-4a62-81ba-a52414ad06b8",
   "metadata": {},
   "source": [
    "#### Save Model"
   ]
  },
  {
   "cell_type": "code",
   "execution_count": 42,
   "id": "100c0872-ba90-43fb-b27b-8002d17b40a7",
   "metadata": {},
   "outputs": [
    {
     "data": {
      "text/plain": [
       "array([17483.12], dtype=float32)"
      ]
     },
     "execution_count": 42,
     "metadata": {},
     "output_type": "execute_result"
    }
   ],
   "source": [
    "from pickle import dump\n",
    "dump(finalmodel, open('insurancemodelf.pkl','wb'))\n",
    "\n",
    "# Test saved model\n",
    "new_data=pd.DataFrame({'age':19,'sex':'male','bmi':27.9,'children':0,'smoker':'yes','region':'northeast'},index=[0])\n",
    "new_data['smoker']=new_data['smoker'].map({'yes':1,'no':0})\n",
    "new_data=new_data.drop(new_data[['sex','region']],axis=1)\n",
    "finalmodel.predict(new_data)"
   ]
  },
  {
   "cell_type": "markdown",
   "id": "130d67d9-c8d5-44e2-9fa6-824dc78c2f76",
   "metadata": {},
   "source": [
    "Out of all the models XGBoost model is giving the highest accuracy this means predictions made by this model are close to the real values as compared to the other model.\n",
    "\n",
    "The dataset we have used here was small still the conclusion we drew from them were quite similar to what is observed in the real-life scenario. If we would have a bigger dataset then we will be able to learn even deeper patterns in the relation between the independent features and the premium charged from the buyers."
   ]
  },
  {
   "cell_type": "code",
   "execution_count": null,
   "id": "55c1745f-ab92-4d2f-bb42-ce1d746030e5",
   "metadata": {},
   "outputs": [],
   "source": []
  }
 ],
 "metadata": {
  "kernelspec": {
   "display_name": "Python 3",
   "language": "python",
   "name": "python3"
  },
  "language_info": {
   "codemirror_mode": {
    "name": "ipython",
    "version": 3
   },
   "file_extension": ".py",
   "mimetype": "text/x-python",
   "name": "python",
   "nbconvert_exporter": "python",
   "pygments_lexer": "ipython3",
   "version": "3.8.8"
  }
 },
 "nbformat": 4,
 "nbformat_minor": 5
}
